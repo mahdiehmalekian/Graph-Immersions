{
 "cells": [
  {
   "cell_type": "markdown",
   "metadata": {},
   "source": [
    "# Generating non-isomorphic simple connected rooted graphs\n",
    "\n",
    "Here, we use SageMath to generate the list of all non-isomrphic simple connected graphs with one root on 5, 6, 7, 8, and 9 vertices. The outputs are stored in M5_rooted, M6_rooted.txt, M7_rooted.txt, and M8_rooted.txt, respectively."
   ]
  },
  {
   "cell_type": "code",
   "execution_count": 1,
   "metadata": {},
   "outputs": [],
   "source": [
    "for i in range(5, 9):\n",
    "    filename = 'L'+str(i)+'_rooted.txt'\n",
    "    with open(filename, 'a') as file_object:\n",
    "        file_object.write('List of all non-isomorphic simple graphs on '+ str(i)+' vertices with one root (distinguished vertex)')    \n",
    "    count = 0\n",
    "    for G in graphs(i):\n",
    "        if not G.is_connected(): continue\n",
    "        with open(filename, 'a') as file_object:\n",
    "            if count == 0:\n",
    "                file_object.write(' on vertex set: '+str(G.vertices())+'\\n')\n",
    "            for orb in G.automorphism_group ().orbits():\n",
    "                file_object.write('root: '+ str(orb[0])+'edges: '+str(G.edges(labels=False))+'\\n')\n",
    "            count += 1\n",
    "    break"
   ]
  }
 ],
 "metadata": {
  "kernelspec": {
   "display_name": "SageMath 8.9",
   "language": "sage",
   "name": "sagemath"
  },
  "language_info": {
   "codemirror_mode": {
    "name": "ipython",
    "version": 2
   },
   "file_extension": ".py",
   "mimetype": "text/x-python",
   "name": "python",
   "nbconvert_exporter": "python",
   "pygments_lexer": "ipython2",
   "version": "2.7.15"
  }
 },
 "nbformat": 4,
 "nbformat_minor": 2
}
