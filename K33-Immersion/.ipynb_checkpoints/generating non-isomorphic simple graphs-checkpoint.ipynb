{
 "cells": [
  {
   "cell_type": "markdown",
   "metadata": {},
   "source": [
    "# Generating non-isomorphic simple graphs\n",
    "\n",
    "Here, we use SageMath to generate the list of all non-isomrphic simple graphs on 6, 7, 8, and 9 vertices. The outputs are stored in L6.txt, L7.txt, L8.txt, and L9.txt, respectively."
   ]
  },
  {
   "cell_type": "code",
   "execution_count": 1,
   "metadata": {},
   "outputs": [],
   "source": [
    "for i in range(6, 10):\n",
    "    filename = 'L'+str(i)+'.txt'\n",
    "    with open(filename, 'a') as file_object:\n",
    "        file_object.write('List of all non-isomorphic simple graphs on '+ str(i)+' vertices')    \n",
    "    count = 0\n",
    "    for G in graphs(i):\n",
    "        with open(filename, 'a') as file_object:\n",
    "            if count == 0:\n",
    "                file_object.write(' on vertex set: '+str(G.vertices())+'\\n')               \n",
    "            file_object.write(str(G.edges(labels=False))+'\\n')\n",
    "            count += 1"
   ]
  }
 ],
 "metadata": {
  "kernelspec": {
   "display_name": "SageMath 8.9",
   "language": "sage",
   "name": "sagemath"
  },
  "language_info": {
   "codemirror_mode": {
    "name": "ipython",
    "version": 2
   },
   "file_extension": ".py",
   "mimetype": "text/x-python",
   "name": "python",
   "nbconvert_exporter": "python",
   "pygments_lexer": "ipython2",
   "version": "2.7.15"
  }
 },
 "nbformat": 4,
 "nbformat_minor": 2
}
