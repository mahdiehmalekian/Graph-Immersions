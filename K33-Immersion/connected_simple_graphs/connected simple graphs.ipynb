{
 "cells": [
  {
   "cell_type": "markdown",
   "metadata": {},
   "source": [
    "# Generating non-isomorphic connected simple graphs\n",
    "\n",
    "Here, we use SageMath to generate the list of all non-isomrphic connected simple graphs on 6, 7, 8, and 9 vertices. The outputs are stored in M6.txt, M7.txt, M8.txt, and M9.txt, respectively."
   ]
  },
  {
   "cell_type": "code",
   "execution_count": 1,
   "metadata": {},
   "outputs": [],
   "source": [
    "for n in range(6, 10):\n",
    "    filename = 'M'+str(n)+'.txt'\n",
    "    with open(filename, 'a') as file_object:\n",
    "        file_object.write('List of the edge set of non-isomorphic connected simple graphs on '+ str(n)+' vertices on vertex set: '+str([i for i in range(n)])+'\\n')    \n",
    "    for G in graphs(n):\n",
    "        if G.is_connected():\n",
    "            with open(filename, 'a') as file_object:\n",
    "                file_object.write(str(G.edges(labels=False))+'\\n')"
   ]
  }
 ],
 "metadata": {
  "kernelspec": {
   "display_name": "SageMath 8.9",
   "language": "sage",
   "name": "sagemath"
  },
  "language_info": {
   "codemirror_mode": {
    "name": "ipython",
    "version": 2
   },
   "file_extension": ".py",
   "mimetype": "text/x-python",
   "name": "python",
   "nbconvert_exporter": "python",
   "pygments_lexer": "ipython2",
   "version": "2.7.15"
  }
 },
 "nbformat": 4,
 "nbformat_minor": 2
}
