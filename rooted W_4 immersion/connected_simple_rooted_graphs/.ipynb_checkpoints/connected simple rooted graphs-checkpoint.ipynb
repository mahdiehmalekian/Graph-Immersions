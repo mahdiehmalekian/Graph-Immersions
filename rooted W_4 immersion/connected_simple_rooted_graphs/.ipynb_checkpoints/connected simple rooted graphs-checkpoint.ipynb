{
 "cells": [
  {
   "cell_type": "markdown",
   "metadata": {},
   "source": [
    "# Generating non-isomorphic connected simple rooted graphs\n",
    "\n",
    "Here, we use SageMath to generate the list of all non-isomrphic simple connected graphs with one distinguished vertex, called the root, on 5, 6, 7, 8, and 9 vertices. The outputs are stored in M5_rooted, M6_rooted.txt, M7_rooted.txt, and M8_rooted.txt, respectively."
   ]
  },
  {
   "cell_type": "code",
   "execution_count": 3,
   "metadata": {},
   "outputs": [],
   "source": [
    "for n in range(5, 6):\n",
    "    filename = 'M'+str(n)+'_rooted.txt'\n",
    "    with open(filename, 'a') as file_object:\n",
    "        file_object.write('List of the edge set of non-isomorphic connected simple graphs on '+ str(n)+\n",
    "                          ' vertices with one root (distinguished vertex) on vertex set: '+ str([i for i in range(n)])+'\\n')    \n",
    "    for G in graphs(n):\n",
    "        if G.is_connected():\n",
    "            with open(filename, 'a') as file_object:\n",
    "                for orb in G.automorphism_group ().orbits():\n",
    "                    file_object.write(str(G.edges(labels=False))+' root:'+ str(orb[0])+'\\n')"
   ]
  },
  {
   "cell_type": "code",
   "execution_count": null,
   "metadata": {},
   "outputs": [],
   "source": []
  }
 ],
 "metadata": {
  "kernelspec": {
   "display_name": "SageMath 8.9",
   "language": "sage",
   "name": "sagemath"
  }
 },
 "nbformat": 4,
 "nbformat_minor": 2
}
